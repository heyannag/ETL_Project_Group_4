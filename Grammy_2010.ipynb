{
 "cells": [
  {
   "cell_type": "code",
   "execution_count": 10,
   "metadata": {},
   "outputs": [],
   "source": [
    "import pandas as pd"
   ]
  },
  {
   "cell_type": "code",
   "execution_count": 11,
   "metadata": {},
   "outputs": [],
   "source": [
    "grammys = \"cleaned.csv\""
   ]
  },
  {
   "cell_type": "code",
   "execution_count": 12,
   "metadata": {},
   "outputs": [
    {
     "data": {
      "text/html": [
       "<div>\n",
       "<style scoped>\n",
       "    .dataframe tbody tr th:only-of-type {\n",
       "        vertical-align: middle;\n",
       "    }\n",
       "\n",
       "    .dataframe tbody tr th {\n",
       "        vertical-align: top;\n",
       "    }\n",
       "\n",
       "    .dataframe thead th {\n",
       "        text-align: right;\n",
       "    }\n",
       "</style>\n",
       "<table border=\"1\" class=\"dataframe\">\n",
       "  <thead>\n",
       "    <tr style=\"text-align: right;\">\n",
       "      <th></th>\n",
       "      <th>year</th>\n",
       "      <th>category</th>\n",
       "      <th>nominee</th>\n",
       "      <th>workers</th>\n",
       "      <th>winner</th>\n",
       "    </tr>\n",
       "  </thead>\n",
       "  <tbody>\n",
       "    <tr>\n",
       "      <th>0</th>\n",
       "      <td>1959</td>\n",
       "      <td>Song of the Year</td>\n",
       "      <td>Nel Blu Dipinto di Blu (Volare).</td>\n",
       "      <td>Domenico Modugno</td>\n",
       "      <td>True</td>\n",
       "    </tr>\n",
       "    <tr>\n",
       "      <th>1</th>\n",
       "      <td>1961</td>\n",
       "      <td>Song of the Year</td>\n",
       "      <td>Theme From Exodus.</td>\n",
       "      <td>Ernest Gold (artist/songwriter)</td>\n",
       "      <td>True</td>\n",
       "    </tr>\n",
       "    <tr>\n",
       "      <th>2</th>\n",
       "      <td>1962</td>\n",
       "      <td>Best Instrumental Theme Or Instrumental Versio...</td>\n",
       "      <td>African Waltz.</td>\n",
       "      <td>Cannonball Adderley (artist), Galt MacDermot (...</td>\n",
       "      <td>True</td>\n",
       "    </tr>\n",
       "    <tr>\n",
       "      <th>3</th>\n",
       "      <td>1962</td>\n",
       "      <td>Song of the Year</td>\n",
       "      <td>Moon River.</td>\n",
       "      <td>Breakfast at Tiffany's</td>\n",
       "      <td>True</td>\n",
       "    </tr>\n",
       "    <tr>\n",
       "      <th>4</th>\n",
       "      <td>1963</td>\n",
       "      <td>Song of the Year</td>\n",
       "      <td>What Kind Of Fool Am I.</td>\n",
       "      <td>Leslie Bricusse (songwriter), Sammy Davis Jr. ...</td>\n",
       "      <td>True</td>\n",
       "    </tr>\n",
       "  </tbody>\n",
       "</table>\n",
       "</div>"
      ],
      "text/plain": [
       "   year                                           category  \\\n",
       "0  1959                                   Song of the Year   \n",
       "1  1961                                   Song of the Year   \n",
       "2  1962  Best Instrumental Theme Or Instrumental Versio...   \n",
       "3  1962                                   Song of the Year   \n",
       "4  1963                                   Song of the Year   \n",
       "\n",
       "                            nominee  \\\n",
       "0  Nel Blu Dipinto di Blu (Volare).   \n",
       "1                Theme From Exodus.   \n",
       "2                    African Waltz.   \n",
       "3                       Moon River.   \n",
       "4           What Kind Of Fool Am I.   \n",
       "\n",
       "                                             workers  winner  \n",
       "0                                   Domenico Modugno    True  \n",
       "1                    Ernest Gold (artist/songwriter)    True  \n",
       "2  Cannonball Adderley (artist), Galt MacDermot (...    True  \n",
       "3                             Breakfast at Tiffany's    True  \n",
       "4  Leslie Bricusse (songwriter), Sammy Davis Jr. ...    True  "
      ]
     },
     "execution_count": 12,
     "metadata": {},
     "output_type": "execute_result"
    }
   ],
   "source": [
    "grammy_df = pd.read_csv(grammys)\n",
    "grammy_df.head()"
   ]
  },
  {
   "cell_type": "code",
   "execution_count": 13,
   "metadata": {},
   "outputs": [
    {
     "data": {
      "text/plain": [
       "year         int64\n",
       "category    object\n",
       "nominee     object\n",
       "workers     object\n",
       "winner        bool\n",
       "dtype: object"
      ]
     },
     "execution_count": 13,
     "metadata": {},
     "output_type": "execute_result"
    }
   ],
   "source": [
    "grammy_df.dtypes"
   ]
  },
  {
   "cell_type": "code",
   "execution_count": 15,
   "metadata": {},
   "outputs": [
    {
     "data": {
      "text/html": [
       "<div>\n",
       "<style scoped>\n",
       "    .dataframe tbody tr th:only-of-type {\n",
       "        vertical-align: middle;\n",
       "    }\n",
       "\n",
       "    .dataframe tbody tr th {\n",
       "        vertical-align: top;\n",
       "    }\n",
       "\n",
       "    .dataframe thead th {\n",
       "        text-align: right;\n",
       "    }\n",
       "</style>\n",
       "<table border=\"1\" class=\"dataframe\">\n",
       "  <thead>\n",
       "    <tr style=\"text-align: right;\">\n",
       "      <th></th>\n",
       "      <th>year</th>\n",
       "      <th>category</th>\n",
       "      <th>nominee</th>\n",
       "      <th>workers</th>\n",
       "      <th>winner</th>\n",
       "    </tr>\n",
       "  </thead>\n",
       "  <tbody>\n",
       "    <tr>\n",
       "      <th>294</th>\n",
       "      <td>2010</td>\n",
       "      <td>Best Country Song</td>\n",
       "      <td>White Horse</td>\n",
       "      <td>Liz Rose (Songwriter), Taylor Swift (Songwriter)</td>\n",
       "      <td>True</td>\n",
       "    </tr>\n",
       "    <tr>\n",
       "      <th>295</th>\n",
       "      <td>2010</td>\n",
       "      <td>Best Country Song</td>\n",
       "      <td>I Run to You.</td>\n",
       "      <td>Tom Douglas (Songwriter), Dave Haywood (Songwr...</td>\n",
       "      <td>False</td>\n",
       "    </tr>\n",
       "    <tr>\n",
       "      <th>296</th>\n",
       "      <td>2010</td>\n",
       "      <td>Best Gospel Song</td>\n",
       "      <td>God In Me</td>\n",
       "      <td>Kierra 'Kiki' Sheard (artist), Mary Mary (arti...</td>\n",
       "      <td>True</td>\n",
       "    </tr>\n",
       "    <tr>\n",
       "      <th>297</th>\n",
       "      <td>2010</td>\n",
       "      <td>Best R&amp;B Song</td>\n",
       "      <td>Single Ladies (Put a Ring on It).</td>\n",
       "      <td>Beyoncé (Songwriter), Kuk Harrell (Songwriter)...</td>\n",
       "      <td>True</td>\n",
       "    </tr>\n",
       "    <tr>\n",
       "      <th>298</th>\n",
       "      <td>2010</td>\n",
       "      <td>Best Rap Song</td>\n",
       "      <td>Run This Town.</td>\n",
       "      <td>Jeff Bhasker (Songwriter), Jay-Z (Songwriter),...</td>\n",
       "      <td>True</td>\n",
       "    </tr>\n",
       "  </tbody>\n",
       "</table>\n",
       "</div>"
      ],
      "text/plain": [
       "     year           category                            nominee  \\\n",
       "294  2010  Best Country Song                        White Horse   \n",
       "295  2010  Best Country Song                      I Run to You.   \n",
       "296  2010   Best Gospel Song                          God In Me   \n",
       "297  2010      Best R&B Song  Single Ladies (Put a Ring on It).   \n",
       "298  2010      Best Rap Song                     Run This Town.   \n",
       "\n",
       "                                               workers  winner  \n",
       "294   Liz Rose (Songwriter), Taylor Swift (Songwriter)    True  \n",
       "295  Tom Douglas (Songwriter), Dave Haywood (Songwr...   False  \n",
       "296  Kierra 'Kiki' Sheard (artist), Mary Mary (arti...    True  \n",
       "297  Beyoncé (Songwriter), Kuk Harrell (Songwriter)...    True  \n",
       "298  Jeff Bhasker (Songwriter), Jay-Z (Songwriter),...    True  "
      ]
     },
     "execution_count": 15,
     "metadata": {},
     "output_type": "execute_result"
    }
   ],
   "source": [
    "grammy_df = grammy_df.loc[grammy_df[\"year\"]> 2009]\n",
    "grammy_df.head()"
   ]
  },
  {
   "cell_type": "code",
   "execution_count": 16,
   "metadata": {},
   "outputs": [
    {
     "data": {
      "text/plain": [
       "year\n",
       "2010    14\n",
       "2011    15\n",
       "2012    17\n",
       "2013    18\n",
       "2014    17\n",
       "2015    21\n",
       "2016    20\n",
       "2017    19\n",
       "2018    27\n",
       "2019    26\n",
       "Name: category, dtype: int64"
      ]
     },
     "execution_count": 16,
     "metadata": {},
     "output_type": "execute_result"
    }
   ],
   "source": [
    "grammy_df.groupby([\"year\"])[\"category\"].count()"
   ]
  },
  {
   "cell_type": "code",
   "execution_count": 17,
   "metadata": {},
   "outputs": [],
   "source": [
    "grammy_df.to_csv('grammy_2010.csv', index=False)"
   ]
  },
  {
   "cell_type": "code",
   "execution_count": null,
   "metadata": {},
   "outputs": [],
   "source": []
  }
 ],
 "metadata": {
  "kernelspec": {
   "display_name": "Python 3.8.2 64-bit",
   "language": "python",
   "name": "python38264bit9324ee2b39524cedb0e259fff366fa1d"
  },
  "language_info": {
   "codemirror_mode": {
    "name": "ipython",
    "version": 3
   },
   "file_extension": ".py",
   "mimetype": "text/x-python",
   "name": "python",
   "nbconvert_exporter": "python",
   "pygments_lexer": "ipython3",
   "version": "3.8.2"
  }
 },
 "nbformat": 4,
 "nbformat_minor": 4
}
