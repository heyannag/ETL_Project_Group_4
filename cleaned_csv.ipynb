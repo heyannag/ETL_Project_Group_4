{
 "cells": [
  {
   "cell_type": "code",
   "execution_count": 1,
   "metadata": {},
   "outputs": [],
   "source": [
    "import pandas as pd"
   ]
  },
  {
   "cell_type": "code",
   "execution_count": 6,
   "metadata": {},
   "outputs": [
    {
     "output_type": "execute_result",
     "data": {
      "text/plain": "   year                                           category  \\\n0  1959                                  Album of the Year   \n1  1959                                   Best Album Cover   \n2  1959                                   Best Arrangement   \n3  1959  Best Classical Performance - Chamber Music (in...   \n4  1959  Best Classical Performance - Instrumentalist (...   \n\n                      nominee  \\\n0  The Music from Peter Gunn.   \n1             Only the Lonely   \n2   The Music From Peter Gunn   \n3      Beethoven: Quartet 130   \n4      Segovia Golden Jubilee   \n\n                                             workers  winner  \n0                                      Henry Mancini    True  \n1                       Frank Sinatra (art director)    True  \n2                    Henry Mancini (artist/arranger)    True  \n3  The Hollywood String Quartet, Paul Shure (arti...    True  \n4                                     Andrés Segovia    True  ",
      "text/html": "<div>\n<style scoped>\n    .dataframe tbody tr th:only-of-type {\n        vertical-align: middle;\n    }\n\n    .dataframe tbody tr th {\n        vertical-align: top;\n    }\n\n    .dataframe thead th {\n        text-align: right;\n    }\n</style>\n<table border=\"1\" class=\"dataframe\">\n  <thead>\n    <tr style=\"text-align: right;\">\n      <th></th>\n      <th>year</th>\n      <th>category</th>\n      <th>nominee</th>\n      <th>workers</th>\n      <th>winner</th>\n    </tr>\n  </thead>\n  <tbody>\n    <tr>\n      <td>0</td>\n      <td>1959</td>\n      <td>Album of the Year</td>\n      <td>The Music from Peter Gunn.</td>\n      <td>Henry Mancini</td>\n      <td>True</td>\n    </tr>\n    <tr>\n      <td>1</td>\n      <td>1959</td>\n      <td>Best Album Cover</td>\n      <td>Only the Lonely</td>\n      <td>Frank Sinatra (art director)</td>\n      <td>True</td>\n    </tr>\n    <tr>\n      <td>2</td>\n      <td>1959</td>\n      <td>Best Arrangement</td>\n      <td>The Music From Peter Gunn</td>\n      <td>Henry Mancini (artist/arranger)</td>\n      <td>True</td>\n    </tr>\n    <tr>\n      <td>3</td>\n      <td>1959</td>\n      <td>Best Classical Performance - Chamber Music (in...</td>\n      <td>Beethoven: Quartet 130</td>\n      <td>The Hollywood String Quartet, Paul Shure (arti...</td>\n      <td>True</td>\n    </tr>\n    <tr>\n      <td>4</td>\n      <td>1959</td>\n      <td>Best Classical Performance - Instrumentalist (...</td>\n      <td>Segovia Golden Jubilee</td>\n      <td>Andrés Segovia</td>\n      <td>True</td>\n    </tr>\n  </tbody>\n</table>\n</div>"
     },
     "metadata": {},
     "execution_count": 6
    }
   ],
   "source": [
    "grammy_df=pd.read_csv('the_grammy_awards.csv')\n",
    "grammy_df.head()"
   ]
  },
  {
   "cell_type": "code",
   "execution_count": 13,
   "metadata": {},
   "outputs": [],
   "source": [
    "song_df=grammy_df[grammy_df['category'].str.contains('Song')]"
   ]
  },
  {
   "cell_type": "code",
   "execution_count": 14,
   "metadata": {},
   "outputs": [
    {
     "output_type": "execute_result",
     "data": {
      "text/plain": "     year                                           category  \\\n35   1959                                   Song of the Year   \n80   1961                                   Song of the Year   \n103  1962  Best Instrumental Theme Or Instrumental Versio...   \n126  1962                                   Song of the Year   \n165  1963                                   Song of the Year   \n\n                              nominee  \\\n35   Nel Blu Dipinto di Blu (Volare).   \n80                 Theme From Exodus.   \n103                    African Waltz.   \n126                       Moon River.   \n165           What Kind Of Fool Am I.   \n\n                                               workers  winner  \n35                                    Domenico Modugno    True  \n80                     Ernest Gold (artist/songwriter)    True  \n103  Cannonball Adderley (artist), Galt MacDermot (...    True  \n126                             Breakfast at Tiffany's    True  \n165  Leslie Bricusse (songwriter), Sammy Davis Jr. ...    True  ",
      "text/html": "<div>\n<style scoped>\n    .dataframe tbody tr th:only-of-type {\n        vertical-align: middle;\n    }\n\n    .dataframe tbody tr th {\n        vertical-align: top;\n    }\n\n    .dataframe thead th {\n        text-align: right;\n    }\n</style>\n<table border=\"1\" class=\"dataframe\">\n  <thead>\n    <tr style=\"text-align: right;\">\n      <th></th>\n      <th>year</th>\n      <th>category</th>\n      <th>nominee</th>\n      <th>workers</th>\n      <th>winner</th>\n    </tr>\n  </thead>\n  <tbody>\n    <tr>\n      <td>35</td>\n      <td>1959</td>\n      <td>Song of the Year</td>\n      <td>Nel Blu Dipinto di Blu (Volare).</td>\n      <td>Domenico Modugno</td>\n      <td>True</td>\n    </tr>\n    <tr>\n      <td>80</td>\n      <td>1961</td>\n      <td>Song of the Year</td>\n      <td>Theme From Exodus.</td>\n      <td>Ernest Gold (artist/songwriter)</td>\n      <td>True</td>\n    </tr>\n    <tr>\n      <td>103</td>\n      <td>1962</td>\n      <td>Best Instrumental Theme Or Instrumental Versio...</td>\n      <td>African Waltz.</td>\n      <td>Cannonball Adderley (artist), Galt MacDermot (...</td>\n      <td>True</td>\n    </tr>\n    <tr>\n      <td>126</td>\n      <td>1962</td>\n      <td>Song of the Year</td>\n      <td>Moon River.</td>\n      <td>Breakfast at Tiffany's</td>\n      <td>True</td>\n    </tr>\n    <tr>\n      <td>165</td>\n      <td>1963</td>\n      <td>Song of the Year</td>\n      <td>What Kind Of Fool Am I.</td>\n      <td>Leslie Bricusse (songwriter), Sammy Davis Jr. ...</td>\n      <td>True</td>\n    </tr>\n  </tbody>\n</table>\n</div>"
     },
     "metadata": {},
     "execution_count": 14
    }
   ],
   "source": [
    "song_df.head()"
   ]
  },
  {
   "cell_type": "code",
   "execution_count": 17,
   "metadata": {},
   "outputs": [],
   "source": [
    "song_df.to_csv('song.csv', index=False)"
   ]
  },
  {
   "cell_type": "code",
   "execution_count": null,
   "metadata": {},
   "outputs": [],
   "source": []
  }
 ],
 "metadata": {
  "language_info": {
   "codemirror_mode": {
    "name": "ipython",
    "version": 3
   },
   "file_extension": ".py",
   "mimetype": "text/x-python",
   "name": "python",
   "nbconvert_exporter": "python",
   "pygments_lexer": "ipython3",
   "version": "3.7.4-final"
  },
  "orig_nbformat": 2,
  "kernelspec": {
   "name": "python3",
   "display_name": "Python 3"
  }
 },
 "nbformat": 4,
 "nbformat_minor": 2
}