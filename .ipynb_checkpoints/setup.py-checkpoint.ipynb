{
 "cells": [
  {
   "cell_type": "code",
   "execution_count": null,
   "metadata": {},
   "outputs": [],
   "source": [
    "from setuptools import setup\n",
    "\n",
    "\n",
    "setup(\n",
    "    description=\"Apple Music Python Client\",\n",
    "    install_requires=['cryptography', 'PyJWT', 'requests'],\n",
    "    keywords=\"apple music api wrapper\",\n",
    "    license=\"MIT\",\n",
    "    name=\"apple-py-music\",\n",
    "    packages=[\"applepymusic\"],\n",
    "    # TODO:\n",
    "    # test_suite=\"tests\",\n",
    "    url='https://github.com/rcrdclub/apple-py-music',\n",
    "    version='0.6.0',\n",
    ")"
   ]
  }
 ],
 "metadata": {
  "kernelspec": {
   "display_name": "Python 3",
   "language": "python",
   "name": "python3"
  },
  "language_info": {
   "codemirror_mode": {
    "name": "ipython",
    "version": 3
   },
   "file_extension": ".py",
   "mimetype": "text/x-python",
   "name": "python",
   "nbconvert_exporter": "python",
   "pygments_lexer": "ipython3",
   "version": "3.7.6"
  }
 },
 "nbformat": 4,
 "nbformat_minor": 4
}
